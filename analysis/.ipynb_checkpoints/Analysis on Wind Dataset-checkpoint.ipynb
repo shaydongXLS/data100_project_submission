{
 "cells": [
  {
   "cell_type": "markdown",
   "id": "4112b8e2",
   "metadata": {},
   "source": [
    "## Analysis on Air Quality Dataset"
   ]
  },
  {
   "cell_type": "markdown",
   "id": "30fda6bf",
   "metadata": {},
   "source": [
    "This notebook contains the analysis performed on the daily wind dataset published by NOAA. The following sections go through the data science lifecycle and raise intersting discoveries. Before we dive into detail, we first import the necessary libraries."
   ]
  },
  {
   "cell_type": "code",
   "execution_count": 6,
   "id": "b05510a5",
   "metadata": {},
   "outputs": [],
   "source": [
    "import warnings\n",
    "warnings.simplefilter(action='ignore', category=FutureWarning)\n",
    "warnings.simplefilter(action='ignore', category=UserWarning)\n",
    "warnings.simplefilter(action='ignore', category=RuntimeWarning)\n",
    "\n",
    "# import sys\n",
    "# !{sys.executable} -m pip install reverse_geocoder\n",
    "\n",
    "import numpy as np\n",
    "import pandas as pd\n",
    "import seaborn as sns\n",
    "import reverse_geocoder as rg\n",
    "import matplotlib.pyplot as plt\n",
    "pd.set_option('mode.chained_assignment', None)"
   ]
  },
  {
   "cell_type": "markdown",
   "id": "31603bde",
   "metadata": {},
   "source": [
    "## Data Sampling and Collection"
   ]
  },
  {
   "cell_type": "markdown",
   "id": "91efd027",
   "metadata": {},
   "source": [
    "In this section, we illustrate the process to collect the data and discuss interesting findings."
   ]
  },
  {
   "cell_type": "markdown",
   "id": "849298a3",
   "metadata": {},
   "source": [
    "__Q: How were the data collected?__"
   ]
  },
  {
   "cell_type": "markdown",
   "id": "70c69eaf",
   "metadata": {},
   "source": [
    "The dataset on daily wind in California for is collected from the National Oceanic and Atmospheric Administration (NOAA), Global Historical Climatology Network - Daily (GHCN-Daily) dataset. NOAA is an American scientific agency within the United States Department of Commerce that focuses on the conditions of the oceans, major waterways, and the atmosphere. This data s access throgh NOAA's [Climate Data Online Search API](https://www.ncdc.noaa.gov/cdo-web/search?datasetid=GHCND)\n",
    "\n",
    "The dataset we download contains daily average wind speed and the direction of fastest 2-minute wind for of every testing station.\n",
    "\n",
    "The Global Historical Climatology Network - Daily (GHCN-Daily) dataset collects data from testing stations. The dataset go through full-dataset routinely reconstruction (usually every week) and quality assurance checks. Station values for each daily update also undergo a suite of quality checks. [[1]](https://www.ncei.noaa.gov/metadata/geoportal/rest/metadata/item/gov.noaa.ncdc:C00861/html)\n",
    "\n",
    "As a smmary, the dataset is collected from Global Historical Climatology Network - Daily (GHCN-Daily) dataset mained by NOAA, which cpllected wind data on daily basis"
   ]
  },
  {
   "cell_type": "markdown",
   "id": "b607b4a3",
   "metadata": {},
   "source": [
    "__Q: Was there any potential bias introduced in the sampling process?__"
   ]
  },
  {
   "cell_type": "markdown",
   "id": "e0f024f1",
   "metadata": {},
   "source": [
    "According to [1], the wind data information is collected from designated measurement stations. So, there may exist selection bias, because stations aren't euqally spaced from each other and may not reflect the average wind condtion of the entire area. \n",
    "\n",
    "The measrement qality is good, since mltiple layer of measurement quality checks are appled. However, since average wind direction data isn't available, we used the 'fastest 2-minute wind' to estimate the average wind direction. This estimate could be biased since an area could have different wind direction through out the day."
   ]
  },
  {
   "cell_type": "markdown",
   "id": "aa920a3c",
   "metadata": {},
   "source": [
    "## Data Cleaning"
   ]
  },
  {
   "cell_type": "markdown",
   "id": "3cee4b9a",
   "metadata": {},
   "source": [
    "We inspect the dataset and perform data cleaning. Then, we discuss the findings. We start by loading the dataset from three seperate files, each contain data of 4 month. Our wind data is downloaded in three files due to the size limit of [Climate Data Online Search API](https://www.ncdc.noaa.gov/cdo-web/search?datasetid=GHCND).  Note that we could also gather a similar dataset for different state using the same data cleaning process shown below."
   ]
  },
  {
   "cell_type": "code",
   "execution_count": 2,
   "id": "5ba1b022",
   "metadata": {},
   "outputs": [
    {
     "data": {
      "text/html": [
       "<div>\n",
       "<style scoped>\n",
       "    .dataframe tbody tr th:only-of-type {\n",
       "        vertical-align: middle;\n",
       "    }\n",
       "\n",
       "    .dataframe tbody tr th {\n",
       "        vertical-align: top;\n",
       "    }\n",
       "\n",
       "    .dataframe thead th {\n",
       "        text-align: right;\n",
       "    }\n",
       "</style>\n",
       "<table border=\"1\" class=\"dataframe\">\n",
       "  <thead>\n",
       "    <tr style=\"text-align: right;\">\n",
       "      <th></th>\n",
       "      <th>STATION</th>\n",
       "      <th>NAME</th>\n",
       "      <th>LATITUDE</th>\n",
       "      <th>LONGITUDE</th>\n",
       "      <th>ELEVATION</th>\n",
       "      <th>DATE</th>\n",
       "      <th>AWND</th>\n",
       "      <th>WDF2</th>\n",
       "    </tr>\n",
       "  </thead>\n",
       "  <tbody>\n",
       "    <tr>\n",
       "      <th>0</th>\n",
       "      <td>USR0000CTHO</td>\n",
       "      <td>THOMES CREEK CALIFORNIA, CA US</td>\n",
       "      <td>39.8644</td>\n",
       "      <td>-122.6097</td>\n",
       "      <td>317.0</td>\n",
       "      <td>2020-01-01</td>\n",
       "      <td>NaN</td>\n",
       "      <td>NaN</td>\n",
       "    </tr>\n",
       "    <tr>\n",
       "      <th>1</th>\n",
       "      <td>USR0000CTHO</td>\n",
       "      <td>THOMES CREEK CALIFORNIA, CA US</td>\n",
       "      <td>39.8644</td>\n",
       "      <td>-122.6097</td>\n",
       "      <td>317.0</td>\n",
       "      <td>2020-01-02</td>\n",
       "      <td>NaN</td>\n",
       "      <td>NaN</td>\n",
       "    </tr>\n",
       "    <tr>\n",
       "      <th>2</th>\n",
       "      <td>USR0000CTHO</td>\n",
       "      <td>THOMES CREEK CALIFORNIA, CA US</td>\n",
       "      <td>39.8644</td>\n",
       "      <td>-122.6097</td>\n",
       "      <td>317.0</td>\n",
       "      <td>2020-01-03</td>\n",
       "      <td>NaN</td>\n",
       "      <td>NaN</td>\n",
       "    </tr>\n",
       "    <tr>\n",
       "      <th>3</th>\n",
       "      <td>USR0000CTHO</td>\n",
       "      <td>THOMES CREEK CALIFORNIA, CA US</td>\n",
       "      <td>39.8644</td>\n",
       "      <td>-122.6097</td>\n",
       "      <td>317.0</td>\n",
       "      <td>2020-01-04</td>\n",
       "      <td>NaN</td>\n",
       "      <td>NaN</td>\n",
       "    </tr>\n",
       "    <tr>\n",
       "      <th>4</th>\n",
       "      <td>USR0000CTHO</td>\n",
       "      <td>THOMES CREEK CALIFORNIA, CA US</td>\n",
       "      <td>39.8644</td>\n",
       "      <td>-122.6097</td>\n",
       "      <td>317.0</td>\n",
       "      <td>2020-01-05</td>\n",
       "      <td>NaN</td>\n",
       "      <td>NaN</td>\n",
       "    </tr>\n",
       "  </tbody>\n",
       "</table>\n",
       "</div>"
      ],
      "text/plain": [
       "       STATION                            NAME  LATITUDE  LONGITUDE  \\\n",
       "0  USR0000CTHO  THOMES CREEK CALIFORNIA, CA US   39.8644  -122.6097   \n",
       "1  USR0000CTHO  THOMES CREEK CALIFORNIA, CA US   39.8644  -122.6097   \n",
       "2  USR0000CTHO  THOMES CREEK CALIFORNIA, CA US   39.8644  -122.6097   \n",
       "3  USR0000CTHO  THOMES CREEK CALIFORNIA, CA US   39.8644  -122.6097   \n",
       "4  USR0000CTHO  THOMES CREEK CALIFORNIA, CA US   39.8644  -122.6097   \n",
       "\n",
       "   ELEVATION        DATE  AWND  WDF2  \n",
       "0      317.0  2020-01-01   NaN   NaN  \n",
       "1      317.0  2020-01-02   NaN   NaN  \n",
       "2      317.0  2020-01-03   NaN   NaN  \n",
       "3      317.0  2020-01-04   NaN   NaN  \n",
       "4      317.0  2020-01-05   NaN   NaN  "
      ]
     },
     "execution_count": 2,
     "metadata": {},
     "output_type": "execute_result"
    }
   ],
   "source": [
    "daily_wind_month_1_4 = pd.read_csv(\"../data/CA_daily_wind_2020_1_4.csv\")\n",
    "daily_wind_month_5_8 = pd.read_csv(\"../data/CA_daily_wind_2020_5_8.csv\")\n",
    "daily_wind_month_9_12 = pd.read_csv(\"../data/CA_daily_wind_2020_9_12.csv\")\n",
    "\n",
    "daily_wind = pd.concat([daily_wind_month_1_4, daily_wind_month_5_8, daily_wind_month_9_12])\n",
    "\n",
    "# The intermediate datasets are deleted to save space.\n",
    "del daily_wind_month_1_4\n",
    "del daily_wind_month_5_8\n",
    "del daily_wind_month_9_12\n",
    "\n",
    "daily_wind.head()"
   ]
  },
  {
   "cell_type": "markdown",
   "id": "3a69f250",
   "metadata": {},
   "source": [
    "__Q: What type of data are you exploring?__"
   ]
  },
  {
   "cell_type": "markdown",
   "id": "3215bda1",
   "metadata": {},
   "source": [
    "In this dataset, we are exploring numerical data in this dataset. The below contains a description for each column in the dataframe. \n",
    "    \n",
    "- \"STATION\" is a qualitative nominal variable that uniquely identifies the measurement site.\n",
    "- \"NAME\" is the name of the site that the measurement was taken.\n",
    "- \"LATITUDE\" indicates the measurement site's geographical latitude.\n",
    "- \"LONGITUDE\" indicates the measurement site's geographical longitude.\n",
    "- \"ELEVATION\" indicates the measurement site's geographical elevation above mean sea level, in tenth of meters.\n",
    "- \"DATE\" encodes time-series information on when the wind info is reported. We may convert this column to datetime objects.\n",
    "- \"AWND\" is the average of daily wind speead in meters per second.\n",
    "- \"WDF2\" is the directon of fastest 2 minute wind in degrees."
   ]
  },
  {
   "cell_type": "markdown",
   "id": "54297752",
   "metadata": {},
   "source": [
    "__Q: What is the granularity of the data?__"
   ]
  },
  {
   "cell_type": "markdown",
   "id": "415ad1ff",
   "metadata": {},
   "source": [
    "Each row include wind measurement at a California climate station in a calendar day in 2020. It generates one record containing the average wind speed and directon of fastest 2 minute wind for that date."
   ]
  },
  {
   "cell_type": "markdown",
   "id": "76312fc8",
   "metadata": {},
   "source": [
    "__Q: Are there missing value or invalid entries in the dataset?__"
   ]
  },
  {
   "cell_type": "markdown",
   "id": "bf49ec7b",
   "metadata": {},
   "source": [
    "Now, we explore a few things to further clean the data. First, let's inspect the completeness of wind data."
   ]
  },
  {
   "cell_type": "code",
   "execution_count": 3,
   "id": "8c30729c",
   "metadata": {},
   "outputs": [
    {
     "data": {
      "text/plain": [
       "STATION           0\n",
       "NAME              0\n",
       "LATITUDE          0\n",
       "LONGITUDE         0\n",
       "ELEVATION         0\n",
       "DATE              0\n",
       "AWND         368567\n",
       "WDF2         368942\n",
       "dtype: int64"
      ]
     },
     "execution_count": 3,
     "metadata": {},
     "output_type": "execute_result"
    }
   ],
   "source": [
    "daily_wind.isnull().sum()"
   ]
  },
  {
   "cell_type": "markdown",
   "id": "f07edd56",
   "metadata": {},
   "source": [
    "Missing values only occuer in AWND and WDF2 featres. Not all station offers AWND ans WDF2 measurements. We will only keep the ones that do keep records of these measrements."
   ]
  },
  {
   "cell_type": "code",
   "execution_count": 4,
   "id": "a5d5d4f9",
   "metadata": {},
   "outputs": [
    {
     "name": "stdout",
     "output_type": "stream",
     "text": [
      "Missing value counts: \n",
      "STATION        0\n",
      "NAME           0\n",
      "LATITUDE       0\n",
      "LONGITUDE      0\n",
      "ELEVATION      0\n",
      "DATE           0\n",
      "AWND         369\n",
      "WDF2         744\n",
      "dtype: int64\n"
     ]
    }
   ],
   "source": [
    "daily_wind = daily_wind.dropna(how='all', subset=[\"AWND\", \"WDF2\"])\n",
    "print('Missing value counts: ')\n",
    "print(daily_wind.isnull().sum())"
   ]
  },
  {
   "cell_type": "markdown",
   "id": "df5251d8",
   "metadata": {},
   "source": [
    "Now let's check if the values are valid."
   ]
  },
  {
   "cell_type": "code",
   "execution_count": 5,
   "id": "4de45cfd",
   "metadata": {},
   "outputs": [
    {
     "data": {
      "text/html": [
       "<div>\n",
       "<style scoped>\n",
       "    .dataframe tbody tr th:only-of-type {\n",
       "        vertical-align: middle;\n",
       "    }\n",
       "\n",
       "    .dataframe tbody tr th {\n",
       "        vertical-align: top;\n",
       "    }\n",
       "\n",
       "    .dataframe thead th {\n",
       "        text-align: right;\n",
       "    }\n",
       "</style>\n",
       "<table border=\"1\" class=\"dataframe\">\n",
       "  <thead>\n",
       "    <tr style=\"text-align: right;\">\n",
       "      <th></th>\n",
       "      <th>LATITUDE</th>\n",
       "      <th>LONGITUDE</th>\n",
       "      <th>ELEVATION</th>\n",
       "      <th>AWND</th>\n",
       "      <th>WDF2</th>\n",
       "    </tr>\n",
       "  </thead>\n",
       "  <tbody>\n",
       "    <tr>\n",
       "      <th>count</th>\n",
       "      <td>28168.000000</td>\n",
       "      <td>28168.000000</td>\n",
       "      <td>28168.000000</td>\n",
       "      <td>27799.000000</td>\n",
       "      <td>27424.000000</td>\n",
       "    </tr>\n",
       "    <tr>\n",
       "      <th>mean</th>\n",
       "      <td>36.162739</td>\n",
       "      <td>-119.613455</td>\n",
       "      <td>298.413945</td>\n",
       "      <td>4.732990</td>\n",
       "      <td>238.067714</td>\n",
       "    </tr>\n",
       "    <tr>\n",
       "      <th>std</th>\n",
       "      <td>2.637449</td>\n",
       "      <td>2.305414</td>\n",
       "      <td>556.674919</td>\n",
       "      <td>3.075932</td>\n",
       "      <td>84.110745</td>\n",
       "    </tr>\n",
       "    <tr>\n",
       "      <th>min</th>\n",
       "      <td>32.566670</td>\n",
       "      <td>-124.236670</td>\n",
       "      <td>-36.000000</td>\n",
       "      <td>0.000000</td>\n",
       "      <td>10.000000</td>\n",
       "    </tr>\n",
       "    <tr>\n",
       "      <th>25%</th>\n",
       "      <td>33.938000</td>\n",
       "      <td>-121.618330</td>\n",
       "      <td>13.100000</td>\n",
       "      <td>2.680000</td>\n",
       "      <td>190.000000</td>\n",
       "    </tr>\n",
       "    <tr>\n",
       "      <th>50%</th>\n",
       "      <td>35.669700</td>\n",
       "      <td>-119.628890</td>\n",
       "      <td>61.000000</td>\n",
       "      <td>3.800000</td>\n",
       "      <td>260.000000</td>\n",
       "    </tr>\n",
       "    <tr>\n",
       "      <th>75%</th>\n",
       "      <td>38.210200</td>\n",
       "      <td>-117.866390</td>\n",
       "      <td>245.200000</td>\n",
       "      <td>5.820000</td>\n",
       "      <td>300.000000</td>\n",
       "    </tr>\n",
       "    <tr>\n",
       "      <th>max</th>\n",
       "      <td>41.781390</td>\n",
       "      <td>-114.618800</td>\n",
       "      <td>2838.600000</td>\n",
       "      <td>28.190000</td>\n",
       "      <td>360.000000</td>\n",
       "    </tr>\n",
       "  </tbody>\n",
       "</table>\n",
       "</div>"
      ],
      "text/plain": [
       "           LATITUDE     LONGITUDE     ELEVATION          AWND          WDF2\n",
       "count  28168.000000  28168.000000  28168.000000  27799.000000  27424.000000\n",
       "mean      36.162739   -119.613455    298.413945      4.732990    238.067714\n",
       "std        2.637449      2.305414    556.674919      3.075932     84.110745\n",
       "min       32.566670   -124.236670    -36.000000      0.000000     10.000000\n",
       "25%       33.938000   -121.618330     13.100000      2.680000    190.000000\n",
       "50%       35.669700   -119.628890     61.000000      3.800000    260.000000\n",
       "75%       38.210200   -117.866390    245.200000      5.820000    300.000000\n",
       "max       41.781390   -114.618800   2838.600000     28.190000    360.000000"
      ]
     },
     "execution_count": 5,
     "metadata": {},
     "output_type": "execute_result"
    }
   ],
   "source": [
    "daily_wind.describe()"
   ]
  },
  {
   "cell_type": "markdown",
   "id": "07a78e99",
   "metadata": {},
   "source": [
    "The Latitde and Longitude invertal of data entried matches [California's geographic information](https://www.latlong.net/place/california-the-usa-2487.html). \n",
    "\n",
    "The elevation of stations ranges from -3.6 meters to 283.8 meters. These values are valid since death valley has the [lowest elevation in California](https://en.wikipedia.org/wiki/Death_Valley), 86 meters below sea level. The [highest point in California](https://en.wikipedia.org/wiki/List_of_mountain_peaks_of_California) has elevation of 4421 meters.\n",
    "\n",
    "AWND ranges ini reasonable wind speed interval. And WDF2 ranges withini 0-360 degrees.\n",
    "\n",
    "In summary, there's no invalid values in our dataset."
   ]
  },
  {
   "cell_type": "markdown",
   "id": "4a217d25",
   "metadata": {},
   "source": [
    "__Handling missing values__\n",
    "\n",
    "Let's take a look at what stations still has msinig values. Are these stations geologically important to our training?"
   ]
  },
  {
   "cell_type": "code",
   "execution_count": 7,
   "id": "b6076d7e",
   "metadata": {},
   "outputs": [
    {
     "data": {
      "text/plain": [
       "<AxesSubplot:title={'center':'Satations with missing WDF2 values'}, xlabel='LONGITUDE', ylabel='LATITUDE'>"
      ]
     },
     "execution_count": 7,
     "metadata": {},
     "output_type": "execute_result"
    },
    {
     "data": {
      "image/png": "[encoded data removed]",
      "text/plain": [
       "<Figure size 1008x576 with 2 Axes>"
      ]
     },
     "metadata": {
      "needs_background": "light"
     },
     "output_type": "display_data"
    }
   ],
   "source": [
    "satations_missing_AWND = daily_wind[daily_wind['AWND'].isnull()][['NAME','LATITUDE','LONGITUDE']].value_counts()\n",
    "satations_missing_WDF2 = daily_wind[daily_wind['WDF2'].isnull()][['NAME','LATITUDE','LONGITUDE']].value_counts()\n",
    "\n",
    "fig, (ax1,ax2) = plt.subplots(1,2, figsize=(14,8))\n",
    "\n",
    "ax1.set_title('Satations with missing AWND values')\n",
    "sns.scatterplot(data = daily_wind.groupby('NAME').first(), y='LATITUDE', x='LONGITUDE', \n",
    "                label = 'no missing value', ax=ax1)\n",
    "sns.scatterplot(data = satations_missing_AWND, y='LATITUDE', x='LONGITUDE', \n",
    "                label = 'missing values', ax=ax1)\n",
    "sns.scatterplot(x=[-122.431,-118.20715],y= [37.77608,34.05316], color='r', label = 'SF and LA',ax=ax1)\n",
    "\n",
    "ax2.set_title('Satations with missing WDF2 values')\n",
    "sns.scatterplot(data = daily_wind.groupby('NAME').first(), y='LATITUDE', x='LONGITUDE', \n",
    "                label = 'no missing value', ax=ax2)\n",
    "sns.scatterplot(data = satations_missing_WDF2, y='LATITUDE', x='LONGITUDE', \n",
    "                label = 'missing values', ax=ax2)\n",
    "sns.scatterplot(x=[-122.431,-118.20715],y= [37.77608,34.05316], color='r', label = 'SF and LA',ax=ax2)"
   ]
  },
  {
   "cell_type": "code",
   "execution_count": null,
   "id": "716ea5b1",
   "metadata": {},
   "outputs": [],
   "source": [
    "x=[-117.20715,-119.20715],y= [33.05316,35.05316]"
   ]
  },
  {
   "cell_type": "markdown",
   "id": "a2bccf34",
   "metadata": {},
   "source": [
    "We are interested in predicting San Francisco and Los Angelas area. No stations has missing values near SF. Near LA, we have multiple stations that's in close proximity with the stations has missing values. Therefore removing the stations with missing values aren't geologically important to us. \n",
    "\n",
    "Because of this, we decide remove the data entries with missing values."
   ]
  },
  {
   "cell_type": "code",
   "execution_count": 54,
   "id": "f198397d",
   "metadata": {},
   "outputs": [
    {
     "data": {
      "text/plain": [
       "STATION      0\n",
       "NAME         0\n",
       "LATITUDE     0\n",
       "LONGITUDE    0\n",
       "ELEVATION    0\n",
       "DATE         0\n",
       "AWND         0\n",
       "WDF2         0\n",
       "dtype: int64"
      ]
     },
     "execution_count": 54,
     "metadata": {},
     "output_type": "execute_result"
    }
   ],
   "source": [
    "daily_wind = daily_wind.dropna()\n",
    "daily_wind.isnull().sum()"
   ]
  },
  {
   "cell_type": "markdown",
   "id": "2a8d8bdd",
   "metadata": {},
   "source": [
    "__Q: What does the distribution of the data looks like?__"
   ]
  },
  {
   "cell_type": "markdown",
   "id": "104d1dc4",
   "metadata": {},
   "source": [
    "We get a better sense of the distribution of data through plotting."
   ]
  },
  {
   "cell_type": "code",
   "execution_count": 84,
   "id": "9dbf5dd1",
   "metadata": {},
   "outputs": [],
   "source": [
    "# define a plotting function to visualize distribution\n",
    "def visualize_uni_distribution(df, name, ax, trans=None, prs=None):\n",
    "    if trans is None:\n",
    "        sns.distplot(df[name], ax=ax)\n",
    "    elif trans == \"log\":\n",
    "        if prs == \"abs\":\n",
    "            eps = 1e-10\n",
    "            sns.distplot(np.abs(np.log10(df[name] + eps)), ax=ax)"
   ]
  },
  {
   "cell_type": "code",
   "execution_count": 91,
   "id": "efc221ec",
   "metadata": {},
   "outputs": [
    {
     "data": {
      "image/png": "[encoded data removed]",
      "text/plain": [
       "<Figure size 720x720 with 6 Axes>"
      ]
     },
     "metadata": {
      "needs_background": "light"
     },
     "output_type": "display_data"
    }
   ],
   "source": [
    "# we see the distribution for each variable (except SiteID, )\n",
    "fig, axs = plt.subplots(2, 3, figsize=(10,10))\n",
    "i = 0\n",
    "\n",
    "for var in daily_wind.columns.to_list():\n",
    "    if var not in [\"LATITUDE\", \"LONGITUDE\", \"ELEVATION\", \"AWND\", \"WDF2\"]:\n",
    "        continue\n",
    "    visualize_uni_distribution(daily_wind, var, axs[i // 3, i % 3])\n",
    "    i += 1\n",
    "\n",
    "fig.tight_layout(pad=3.0)\n",
    "fig.suptitle(\"Distribution of numerical variables in the dataset\");"
   ]
  },
  {
   "cell_type": "markdown",
   "id": "fab561f7",
   "metadata": {},
   "source": [
    "__LATITUDE:__\n",
    "This data is multi-modal and is slightly right skewed. The latitude of all stations lies between 32 and 42 degree. \n",
    "\n",
    "__LONGITUDE:__\n",
    "This data is multi-modal. The latitude of all stations lies between -114 and -122 degree.\n",
    "\n",
    "__ELEVATION:__\n",
    "This data is multinomial. Majority of data is close to 0, around sealevel. Some stations have elevation up to 300 meters. (The unit if elevation is in tenth of meters)\n",
    "\n",
    "__AWND:__\n",
    "This data is unimodel and right skewed. The median of average daily wind speed is aboe 4 meters per second. Average daily wind speed has extreme value of up to 30 meters per second.\n",
    "\n",
    "__WDF2:__\n",
    "This data is multimodel and left skewed. Wind direction takes more value between 180 - 340 degree, and less wind come from rest of directions. "
   ]
  },
  {
   "cell_type": "markdown",
   "id": "e2a4848a",
   "metadata": {},
   "source": [
    "__Are there any outliers?__"
   ]
  },
  {
   "cell_type": "markdown",
   "id": "69ec7d38",
   "metadata": {},
   "source": [
    "Based on analysis above, there aren't any outliers in the dataset. Some stations takes high elevation value, but data from these stations reflects the legitimate geograohic condition of some parts of California. Therefore we keep these entries."
   ]
  },
  {
   "cell_type": "markdown",
   "id": "523c5324",
   "metadata": {},
   "source": [
    "## Exploratory Data Analysis"
   ]
  },
  {
   "cell_type": "markdown",
   "id": "5ccb4ef1",
   "metadata": {},
   "source": [
    "In this section, we explore the relationship between variables and getting to know more about the data. Note that, in the end, we plan to combine several dataset together. Then, we will gather another analysis notebook to explore the correlation between the features and the column to predict. For now, we are just trying to explore some basic elements of this dataset. Please be assured that more will follow in the final notebook :)"
   ]
  },
  {
   "cell_type": "code",
   "execution_count": 93,
   "id": "0cc89b7a",
   "metadata": {},
   "outputs": [
    {
     "data": {
      "text/html": [
       "<div>\n",
       "<style scoped>\n",
       "    .dataframe tbody tr th:only-of-type {\n",
       "        vertical-align: middle;\n",
       "    }\n",
       "\n",
       "    .dataframe tbody tr th {\n",
       "        vertical-align: top;\n",
       "    }\n",
       "\n",
       "    .dataframe thead th {\n",
       "        text-align: right;\n",
       "    }\n",
       "</style>\n",
       "<table border=\"1\" class=\"dataframe\">\n",
       "  <thead>\n",
       "    <tr style=\"text-align: right;\">\n",
       "      <th></th>\n",
       "      <th>STATION</th>\n",
       "      <th>NAME</th>\n",
       "      <th>LATITUDE</th>\n",
       "      <th>LONGITUDE</th>\n",
       "      <th>ELEVATION</th>\n",
       "      <th>DATE</th>\n",
       "      <th>AWND</th>\n",
       "      <th>WDF2</th>\n",
       "      <th>year</th>\n",
       "      <th>month</th>\n",
       "      <th>week</th>\n",
       "      <th>day</th>\n",
       "    </tr>\n",
       "  </thead>\n",
       "  <tbody>\n",
       "    <tr>\n",
       "      <th>2403</th>\n",
       "      <td>USW00093210</td>\n",
       "      <td>OROVILLE MUNICIPAL AIRPORT, CA US</td>\n",
       "      <td>39.49</td>\n",
       "      <td>-121.61833</td>\n",
       "      <td>57.9</td>\n",
       "      <td>2020-01-01</td>\n",
       "      <td>2.01</td>\n",
       "      <td>270.0</td>\n",
       "      <td>2020</td>\n",
       "      <td>1</td>\n",
       "      <td>1</td>\n",
       "      <td>1</td>\n",
       "    </tr>\n",
       "    <tr>\n",
       "      <th>2404</th>\n",
       "      <td>USW00093210</td>\n",
       "      <td>OROVILLE MUNICIPAL AIRPORT, CA US</td>\n",
       "      <td>39.49</td>\n",
       "      <td>-121.61833</td>\n",
       "      <td>57.9</td>\n",
       "      <td>2020-01-02</td>\n",
       "      <td>2.91</td>\n",
       "      <td>290.0</td>\n",
       "      <td>2020</td>\n",
       "      <td>1</td>\n",
       "      <td>1</td>\n",
       "      <td>2</td>\n",
       "    </tr>\n",
       "    <tr>\n",
       "      <th>2405</th>\n",
       "      <td>USW00093210</td>\n",
       "      <td>OROVILLE MUNICIPAL AIRPORT, CA US</td>\n",
       "      <td>39.49</td>\n",
       "      <td>-121.61833</td>\n",
       "      <td>57.9</td>\n",
       "      <td>2020-01-03</td>\n",
       "      <td>3.80</td>\n",
       "      <td>130.0</td>\n",
       "      <td>2020</td>\n",
       "      <td>1</td>\n",
       "      <td>1</td>\n",
       "      <td>3</td>\n",
       "    </tr>\n",
       "    <tr>\n",
       "      <th>2406</th>\n",
       "      <td>USW00093210</td>\n",
       "      <td>OROVILLE MUNICIPAL AIRPORT, CA US</td>\n",
       "      <td>39.49</td>\n",
       "      <td>-121.61833</td>\n",
       "      <td>57.9</td>\n",
       "      <td>2020-01-04</td>\n",
       "      <td>6.49</td>\n",
       "      <td>160.0</td>\n",
       "      <td>2020</td>\n",
       "      <td>1</td>\n",
       "      <td>1</td>\n",
       "      <td>4</td>\n",
       "    </tr>\n",
       "    <tr>\n",
       "      <th>2407</th>\n",
       "      <td>USW00093210</td>\n",
       "      <td>OROVILLE MUNICIPAL AIRPORT, CA US</td>\n",
       "      <td>39.49</td>\n",
       "      <td>-121.61833</td>\n",
       "      <td>57.9</td>\n",
       "      <td>2020-01-05</td>\n",
       "      <td>2.01</td>\n",
       "      <td>10.0</td>\n",
       "      <td>2020</td>\n",
       "      <td>1</td>\n",
       "      <td>1</td>\n",
       "      <td>5</td>\n",
       "    </tr>\n",
       "  </tbody>\n",
       "</table>\n",
       "</div>"
      ],
      "text/plain": [
       "          STATION                               NAME  LATITUDE  LONGITUDE  \\\n",
       "2403  USW00093210  OROVILLE MUNICIPAL AIRPORT, CA US     39.49 -121.61833   \n",
       "2404  USW00093210  OROVILLE MUNICIPAL AIRPORT, CA US     39.49 -121.61833   \n",
       "2405  USW00093210  OROVILLE MUNICIPAL AIRPORT, CA US     39.49 -121.61833   \n",
       "2406  USW00093210  OROVILLE MUNICIPAL AIRPORT, CA US     39.49 -121.61833   \n",
       "2407  USW00093210  OROVILLE MUNICIPAL AIRPORT, CA US     39.49 -121.61833   \n",
       "\n",
       "      ELEVATION       DATE  AWND   WDF2  year  month  week  day  \n",
       "2403       57.9 2020-01-01  2.01  270.0  2020      1     1    1  \n",
       "2404       57.9 2020-01-02  2.91  290.0  2020      1     1    2  \n",
       "2405       57.9 2020-01-03  3.80  130.0  2020      1     1    3  \n",
       "2406       57.9 2020-01-04  6.49  160.0  2020      1     1    4  \n",
       "2407       57.9 2020-01-05  2.01   10.0  2020      1     1    5  "
      ]
     },
     "execution_count": 93,
     "metadata": {},
     "output_type": "execute_result"
    }
   ],
   "source": [
    "# we make it more fine grained\n",
    "daily_wind['DATE'] = pd.to_datetime(daily_wind['DATE'])\n",
    "daily_wind[\"year\"] = daily_wind[\"DATE\"].dt.year\n",
    "daily_wind[\"month\"] = daily_wind[\"DATE\"].dt.month\n",
    "daily_wind[\"week\"] = daily_wind[\"DATE\"].dt.week\n",
    "daily_wind[\"day\"] = daily_wind[\"DATE\"].dt.day\n",
    "\n",
    "daily_wind.head()"
   ]
  },
  {
   "cell_type": "markdown",
   "id": "76bf7156",
   "metadata": {},
   "source": [
    "# COPIED FROM OTHER FILES ------------------------------------------------------\n",
    "# MORE EDA WILL BE ADDED HERE ------------------------------------------------"
   ]
  },
  {
   "cell_type": "markdown",
   "id": "ccf0a94d",
   "metadata": {},
   "source": [
    "1. Is there any correlation between the variables you are interested in exploring?\n",
    "2. How would you cleanly and accurately visualize the relationship among variables?"
   ]
  },
  {
   "cell_type": "markdown",
   "id": "618cec65",
   "metadata": {},
   "source": [
    "__Exploration 1: Is there a relationship between station location and wind speed?__ \n",
    "\n",
    "Intuitively, we want to explore if a certain areas in California has on average higher wind speed as compared with other regions. For example, we may want to ask if San Francisco has higher wind speed compare to Ls Angelas? Or we may want to ask if the city has higher wind speed than the suberbs?\n",
    "\n",
    "To see the relationship, we take the average wind speed at each station."
   ]
  },
  {
   "cell_type": "code",
   "execution_count": 78,
   "id": "920c966c",
   "metadata": {},
   "outputs": [
    {
     "data": {
      "text/plain": [
       "Text(0.5, 1.0, 'Average wind speed in California testing stations')"
      ]
     },
     "execution_count": 78,
     "metadata": {},
     "output_type": "execute_result"
    },
    {
     "data": {
      "image/png": "[encoded data removed]",
      "text/plain": [
       "<Figure size 432x576 with 1 Axes>"
      ]
     },
     "metadata": {
      "needs_background": "light"
     },
     "output_type": "display_data"
    }
   ],
   "source": [
    "plt.figure(figsize=(6,8))\n",
    "sns.scatterplot(data = daily_wind.groupby('NAME').mean()[['LATITUDE','LONGITUDE','AWND']],\n",
    "               x = 'LONGITUDE', y='LATITUDE', hue = 'AWND', size=\"AWND\")\n",
    "sns.scatterplot(x=[-122.431,-118.20715],y= [37.77608,34.05316], color='r', label = 'SF and LA')\n",
    "plt.title('Average wind speed in California testing stations')"
   ]
  },
  {
   "cell_type": "markdown",
   "id": "de5ec23d",
   "metadata": {},
   "source": [
    "As the graph shows, the wind speed in California is evenly spreaded and it's not strongly related to the geological location."
   ]
  },
  {
   "cell_type": "markdown",
   "id": "2dc48317",
   "metadata": {},
   "source": [
    "__Exploration 2: Is there a relationship between season and wind speed?__ \n",
    "\n",
    "Intuitively, we want to explore if California wind speed and direction is related to season."
   ]
  },
  {
   "cell_type": "code",
   "execution_count": 79,
   "id": "ec115e51",
   "metadata": {},
   "outputs": [
    {
     "data": {
      "text/plain": [
       "<AxesSubplot:title={'center':'Wind direction in different season'}, xlabel='DATE', ylabel='WDF2'>"
      ]
     },
     "execution_count": 79,
     "metadata": {},
     "output_type": "execute_result"
    },
    {
     "data": {
      "image/png": "[encoded data removed]",
      "text/plain": [
       "<Figure size 1008x576 with 2 Axes>"
      ]
     },
     "metadata": {
      "needs_background": "light"
     },
     "output_type": "display_data"
    }
   ],
   "source": [
    "fig, (ax1,ax2) = plt.subplots(1,2, figsize=(14,8))\n",
    "\n",
    "ax1.set_title('Wind speed in different season')\n",
    "sns.kdeplot(data = daily_wind, x = 'DATE', y = 'AWND', fill = True, ax=ax1)\n",
    "ax2.set_title('Wind direction in different season')\n",
    "sns.kdeplot(data = daily_wind, x = 'DATE', y = 'WDF2', fill = True, ax=ax2)"
   ]
  },
  {
   "cell_type": "markdown",
   "id": "0da04af7",
   "metadata": {},
   "source": [
    "As the graph suggests, wind speed is related to the time of the year. In summer, the wind speed is smaller. Wind drection is also related to the time of year. In summer, wind direction more centered at 255 degree."
   ]
  },
  {
   "cell_type": "markdown",
   "id": "5a82218d",
   "metadata": {},
   "source": [
    "__Exploration 3: Is there a relationship between wind speed and wind direction?__ \n",
    "\n",
    "Intuitively, we want to explore if California wind speed and direction is related to each other. For example, wind speed may be higher near the ocean and the direction of wind might be blowing from land to ocean."
   ]
  },
  {
   "cell_type": "code",
   "execution_count": 91,
   "id": "dbb65995",
   "metadata": {},
   "outputs": [
    {
     "data": {
      "text/plain": [
       "<AxesSubplot:xlabel='AWND', ylabel='WDF2'>"
      ]
     },
     "execution_count": 91,
     "metadata": {},
     "output_type": "execute_result"
    },
    {
     "data": {
      "image/png": "[encoded data removed]",
      "text/plain": [
       "<Figure size 432x288 with 1 Axes>"
      ]
     },
     "metadata": {
      "needs_background": "light"
     },
     "output_type": "display_data"
    }
   ],
   "source": [
    "sns.kdeplot(data = daily_wind, x = 'AWND', y = 'WDF2', fill = True)"
   ]
  },
  {
   "cell_type": "markdown",
   "id": "6bb31826",
   "metadata": {},
   "source": [
    "Wind speed and wind direction aren't closely related in California."
   ]
  },
  {
   "cell_type": "markdown",
   "id": "8c7d24a2",
   "metadata": {},
   "source": [
    "__Q: How would you cleanly and accurately visualize the relationship among variables?__"
   ]
  },
  {
   "cell_type": "markdown",
   "id": "35b88c03",
   "metadata": {},
   "source": [
    "This question is answered as we walk through the above three explorations. Basically, several techniques are used to cleanly and accurately visualize the relationship.\n",
    "\n",
    "Given that we care about the wind condition across the months / weeks, we use kde plot to allow the data to generalize and be more smooth. Then, to observe clean and clear trend, we use:\n",
    "\n",
    "- proper data cleaning routine to remove outliers\n",
    "- kde plot to avoid overplotting\n",
    "\n",
    "For the relationship between geological location and wind speed, we use:\n",
    "- proper data cleaning routine to remove outliers\n",
    "- plot the average over the year instead of all data\n",
    "- proper selction of graphing method and use proper color, and display size"
   ]
  },
  {
   "cell_type": "markdown",
   "id": "72615460",
   "metadata": {},
   "source": [
    "## Data Extraction"
   ]
  },
  {
   "cell_type": "code",
   "execution_count": null,
   "id": "6a0b481a",
   "metadata": {},
   "outputs": [],
   "source": []
  },
  {
   "cell_type": "code",
   "execution_count": null,
   "id": "f56fa756",
   "metadata": {},
   "outputs": [],
   "source": []
  },
  {
   "cell_type": "markdown",
   "id": "85cda2aa",
   "metadata": {},
   "source": [
    "## Reference"
   ]
  },
  {
   "cell_type": "markdown",
   "id": "e7611ce5",
   "metadata": {},
   "source": [
    "[1] https://aqs.epa.gov/aqsweb/documents/codetables/cbsas.html\n",
    "\n",
    "[2] https://www.epa.gov/outdoor-air-quality-data/air-data-frequent-questions\n",
    "\n",
    "[3] https://aqicn.org/faq/2013-09-09/revised-pm25-aqi-breakpoints/\n",
    "\n",
    "[4] https://www.epa.gov/sites/production/files/2016-10/documents/pm2.5_continuous_monitoring.pdf"
   ]
  },
  {
   "cell_type": "code",
   "execution_count": null,
   "id": "2743cf9b",
   "metadata": {},
   "outputs": [],
   "source": []
  }
 ],
 "metadata": {
  "kernelspec": {
   "display_name": "Python 3",
   "language": "python",
   "name": "python3"
  },
  "language_info": {
   "codemirror_mode": {
    "name": "ipython",
    "version": 3
   },
   "file_extension": ".py",
   "mimetype": "text/x-python",
   "name": "python",
   "nbconvert_exporter": "python",
   "pygments_lexer": "ipython3",
   "version": "3.9.2"
  }
 },
 "nbformat": 4,
 "nbformat_minor": 5
}
