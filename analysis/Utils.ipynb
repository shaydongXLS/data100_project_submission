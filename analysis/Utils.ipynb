{
 "cells": [
  {
   "cell_type": "markdown",
   "id": "composite-knitting",
   "metadata": {},
   "source": [
    "This module contain functions to be used in other parts of the code."
   ]
  },
  {
   "cell_type": "code",
   "execution_count": 8,
   "id": "unauthorized-trader",
   "metadata": {},
   "outputs": [],
   "source": []
  },
  {
   "cell_type": "code",
   "execution_count": null,
   "id": "employed-bracket",
   "metadata": {},
   "outputs": [],
   "source": []
  }
 ],
 "metadata": {
  "kernelspec": {
   "display_name": "Python 3",
   "language": "python",
   "name": "python3"
  },
  "language_info": {
   "codemirror_mode": {
    "name": "ipython",
    "version": 3
   },
   "file_extension": ".py",
   "mimetype": "text/x-python",
   "name": "python",
   "nbconvert_exporter": "python",
   "pygments_lexer": "ipython3",
   "version": "3.8.5"
  }
 },
 "nbformat": 4,
 "nbformat_minor": 5
}
