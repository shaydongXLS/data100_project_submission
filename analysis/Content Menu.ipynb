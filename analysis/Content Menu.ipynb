{
 "cells": [
  {
   "cell_type": "markdown",
   "id": "539d48a9",
   "metadata": {},
   "source": [
    "## This report contains the following 5 analysis notebooks\n",
    "1. Analysis on Combined Datasets & Model Building and Evaluation.ipynb\n",
    "2. Analysis on Air Quality Dataset.ipynb\n",
    "3. Analysis on Daily Global Weather Dataset.ipynb\n",
    "4. Analysis on Pollutants Dataset.ipynb\n",
    "5. Analysis on Wind Dataset.ipynb\n",
    "\n",
    "Notebook 2-5 each contains the __Data Sampling and Collection__, __Data Cleaning__ and __Exploratory Data Analysis__ on a corresponding dataset. The data source and final feature(s) of each individual dataset analsis are listed below.\n",
    "\n",
    "Notebook 1 contains the cross feature __Exploratory Data Analysis__ and __Data Modeling and Inferences__.\n",
    "\n",
    "Note that our EDA is contained in both individual dataset analysis files and the combined modeling file.\n",
    "\n",
    "| ipython File       | Feature Name(s)    | Description | Source     |\n",
    "| :------------- | :---------- | :---------- | :----------- |\n",
    "| Analysis on Air Quality Dataset            |weekly AQI<br>weekly delta AQI   | weekly average AQI <br> average AQI change from last week | EPA [1]    |\n",
    "| Analysis on Daily Global Weather Dataset   | TEMP_C<br>PRCP_MM | weekly average temperature in C <br> weekly average precipitation | NCEI [2]| \n",
    "| Analysis on Pollutants Dataset             | weekly CO<br>weekly NO2<br>weekly SO2| weekly average of CO concentration measurement<br>weekly average of NO2 concentration measurement <br> weekly average of SO2 concentration measurement   | EPA       | \n",
    "| Analysis on Wind Dataset                   | weekly wind speed<br>W<br>S | average weekly wind speed <br> weekly average wind direction is West <br> weekly average wind direction is South  | NOAA [3]|\n",
    "\n",
    "\n"
   ]
  },
  {
   "cell_type": "markdown",
   "id": "7df2d76b",
   "metadata": {},
   "source": [
    "[1] United States Environmental Protection Agency\n",
    "[2] National Centers for Environmental Information\n",
    "[3] National Oceanic and Atmospheric Administration"
   ]
  },
  {
   "cell_type": "code",
   "execution_count": null,
   "id": "3861c2a4",
   "metadata": {},
   "outputs": [],
   "source": []
  }
 ],
 "metadata": {
  "kernelspec": {
   "display_name": "Python 3",
   "language": "python",
   "name": "python3"
  },
  "language_info": {
   "codemirror_mode": {
    "name": "ipython",
    "version": 3
   },
   "file_extension": ".py",
   "mimetype": "text/x-python",
   "name": "python",
   "nbconvert_exporter": "python",
   "pygments_lexer": "ipython3",
   "version": "3.9.2"
  }
 },
 "nbformat": 4,
 "nbformat_minor": 5
}
